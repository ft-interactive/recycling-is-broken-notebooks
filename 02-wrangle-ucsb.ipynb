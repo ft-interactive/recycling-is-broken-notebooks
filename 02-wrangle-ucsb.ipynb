{
 "cells": [
  {
   "cell_type": "markdown",
   "metadata": {},
   "source": [
    "# US Census Bureau exports data\n",
    "\n",
    "Source: [US Census Bureau](https://usatrade.census.gov/index.php)\n",
    "\n",
    "## Plastics exports\n",
    "\n",
    "---\n",
    "\n",
    "### 1. Import, tidy and transform data"
   ]
  },
  {
   "cell_type": "code",
   "execution_count": 1,
   "metadata": {},
   "outputs": [],
   "source": [
    "import pandas as pd"
   ]
  },
  {
   "cell_type": "code",
   "execution_count": 2,
   "metadata": {},
   "outputs": [
    {
     "name": "stdout",
     "output_type": "stream",
     "text": [
      "3345\n"
     ]
    },
    {
     "data": {
      "text/html": [
       "<div>\n",
       "<style scoped>\n",
       "    .dataframe tbody tr th:only-of-type {\n",
       "        vertical-align: middle;\n",
       "    }\n",
       "\n",
       "    .dataframe tbody tr th {\n",
       "        vertical-align: top;\n",
       "    }\n",
       "\n",
       "    .dataframe thead th {\n",
       "        text-align: right;\n",
       "    }\n",
       "</style>\n",
       "<table border=\"1\" class=\"dataframe\">\n",
       "  <thead>\n",
       "    <tr style=\"text-align: right;\">\n",
       "      <th></th>\n",
       "      <th>country_code</th>\n",
       "      <th>period</th>\n",
       "      <th>kg</th>\n",
       "    </tr>\n",
       "  </thead>\n",
       "  <tbody>\n",
       "    <tr>\n",
       "      <th>0</th>\n",
       "      <td>1220</td>\n",
       "      <td>2013-01-01</td>\n",
       "      <td>10331054</td>\n",
       "    </tr>\n",
       "    <tr>\n",
       "      <th>1</th>\n",
       "      <td>1220</td>\n",
       "      <td>2013-02-01</td>\n",
       "      <td>9314511</td>\n",
       "    </tr>\n",
       "    <tr>\n",
       "      <th>2</th>\n",
       "      <td>1220</td>\n",
       "      <td>2013-03-01</td>\n",
       "      <td>10729346</td>\n",
       "    </tr>\n",
       "    <tr>\n",
       "      <th>3</th>\n",
       "      <td>1220</td>\n",
       "      <td>2013-04-01</td>\n",
       "      <td>11235408</td>\n",
       "    </tr>\n",
       "    <tr>\n",
       "      <th>4</th>\n",
       "      <td>1220</td>\n",
       "      <td>2013-05-01</td>\n",
       "      <td>12423949</td>\n",
       "    </tr>\n",
       "  </tbody>\n",
       "</table>\n",
       "</div>"
      ],
      "text/plain": [
       "   country_code     period        kg\n",
       "0          1220 2013-01-01  10331054\n",
       "1          1220 2013-02-01   9314511\n",
       "2          1220 2013-03-01  10729346\n",
       "3          1220 2013-04-01  11235408\n",
       "4          1220 2013-05-01  12423949"
      ]
     },
     "execution_count": 2,
     "metadata": {},
     "output_type": "execute_result"
    }
   ],
   "source": [
    "df_plastics = pd.read_csv(\n",
    "        f'data/raw/us-uscb/us-plastics-exports.csv',\n",
    "        header=4,\n",
    "        usecols=[*range(0, 4)],\n",
    "        dtype={ 'Quantity 1': 'int' },\n",
    "        parse_dates=['Time'],\n",
    "        thousands=','\n",
    "    ) \\\n",
    "    .rename({\n",
    "        'Country': 'country_code',\n",
    "        'Time': 'period',\n",
    "        'Quantity 1': 'kg'\n",
    "    }, axis=1) \\\n",
    "    .groupby(['country_code', 'period'], as_index=False)['kg'].sum() \\\n",
    "    .sort_values(['country_code', 'period']) \\\n",
    "    .reset_index(drop=True)\n",
    "\n",
    "print(len(df_plastics))\n",
    "\n",
    "df_plastics.head()"
   ]
  },
  {
   "cell_type": "markdown",
   "metadata": {},
   "source": [
    "### 2. Check data types and nulls"
   ]
  },
  {
   "cell_type": "code",
   "execution_count": 3,
   "metadata": {},
   "outputs": [
    {
     "data": {
      "text/plain": [
       "country_code             int64\n",
       "period          datetime64[ns]\n",
       "kg                       int64\n",
       "dtype: object"
      ]
     },
     "execution_count": 3,
     "metadata": {},
     "output_type": "execute_result"
    }
   ],
   "source": [
    "df_plastics.dtypes"
   ]
  },
  {
   "cell_type": "code",
   "execution_count": 4,
   "metadata": {},
   "outputs": [
    {
     "data": {
      "text/plain": [
       "country_code    False\n",
       "period          False\n",
       "kg              False\n",
       "dtype: bool"
      ]
     },
     "execution_count": 4,
     "metadata": {},
     "output_type": "execute_result"
    }
   ],
   "source": [
    "df_plastics.isnull().any()"
   ]
  },
  {
   "cell_type": "markdown",
   "metadata": {},
   "source": [
    "### 3. Join to country names"
   ]
  },
  {
   "cell_type": "code",
   "execution_count": 5,
   "metadata": {},
   "outputs": [
    {
     "name": "stdout",
     "output_type": "stream",
     "text": [
      "241\n"
     ]
    },
    {
     "data": {
      "text/html": [
       "<div>\n",
       "<style scoped>\n",
       "    .dataframe tbody tr th:only-of-type {\n",
       "        vertical-align: middle;\n",
       "    }\n",
       "\n",
       "    .dataframe tbody tr th {\n",
       "        vertical-align: top;\n",
       "    }\n",
       "\n",
       "    .dataframe thead th {\n",
       "        text-align: right;\n",
       "    }\n",
       "</style>\n",
       "<table border=\"1\" class=\"dataframe\">\n",
       "  <thead>\n",
       "    <tr style=\"text-align: right;\">\n",
       "      <th></th>\n",
       "      <th>Code</th>\n",
       "      <th>Name</th>\n",
       "      <th>ISO Code</th>\n",
       "    </tr>\n",
       "  </thead>\n",
       "  <tbody>\n",
       "    <tr>\n",
       "      <th>0</th>\n",
       "      <td>5310</td>\n",
       "      <td>Afghanistan</td>\n",
       "      <td>AF</td>\n",
       "    </tr>\n",
       "    <tr>\n",
       "      <th>1</th>\n",
       "      <td>4810</td>\n",
       "      <td>Albania</td>\n",
       "      <td>AL</td>\n",
       "    </tr>\n",
       "    <tr>\n",
       "      <th>2</th>\n",
       "      <td>7210</td>\n",
       "      <td>Algeria</td>\n",
       "      <td>DZ</td>\n",
       "    </tr>\n",
       "    <tr>\n",
       "      <th>3</th>\n",
       "      <td>9510</td>\n",
       "      <td>American Samoa</td>\n",
       "      <td>AS</td>\n",
       "    </tr>\n",
       "    <tr>\n",
       "      <th>4</th>\n",
       "      <td>4271</td>\n",
       "      <td>Andorra</td>\n",
       "      <td>AD</td>\n",
       "    </tr>\n",
       "  </tbody>\n",
       "</table>\n",
       "</div>"
      ],
      "text/plain": [
       "   Code            Name ISO Code\n",
       "0  5310     Afghanistan       AF\n",
       "1  4810         Albania       AL\n",
       "2  7210         Algeria       DZ\n",
       "3  9510  American Samoa       AS\n",
       "4  4271         Andorra       AD"
      ]
     },
     "execution_count": 5,
     "metadata": {},
     "output_type": "execute_result"
    }
   ],
   "source": [
    "df_countries = pd.read_csv(\n",
    "    'data/raw/us-uscb/country2.csv',\n",
    "    keep_default_na=False # Necessary because the ISO code for Namibia is ‘NA’\n",
    ")\n",
    "\n",
    "print(len(df_countries))\n",
    "\n",
    "df_countries.head()"
   ]
  },
  {
   "cell_type": "code",
   "execution_count": 6,
   "metadata": {},
   "outputs": [
    {
     "name": "stdout",
     "output_type": "stream",
     "text": [
      "3345\n"
     ]
    },
    {
     "data": {
      "text/html": [
       "<div>\n",
       "<style scoped>\n",
       "    .dataframe tbody tr th:only-of-type {\n",
       "        vertical-align: middle;\n",
       "    }\n",
       "\n",
       "    .dataframe tbody tr th {\n",
       "        vertical-align: top;\n",
       "    }\n",
       "\n",
       "    .dataframe thead th {\n",
       "        text-align: right;\n",
       "    }\n",
       "</style>\n",
       "<table border=\"1\" class=\"dataframe\">\n",
       "  <thead>\n",
       "    <tr style=\"text-align: right;\">\n",
       "      <th></th>\n",
       "      <th>period</th>\n",
       "      <th>kg</th>\n",
       "      <th>country_name</th>\n",
       "      <th>iso2</th>\n",
       "    </tr>\n",
       "  </thead>\n",
       "  <tbody>\n",
       "    <tr>\n",
       "      <th>0</th>\n",
       "      <td>2018-05-01</td>\n",
       "      <td>20000</td>\n",
       "      <td>Afghanistan</td>\n",
       "      <td>AF</td>\n",
       "    </tr>\n",
       "    <tr>\n",
       "      <th>1</th>\n",
       "      <td>2015-08-01</td>\n",
       "      <td>8000</td>\n",
       "      <td>Algeria</td>\n",
       "      <td>DZ</td>\n",
       "    </tr>\n",
       "    <tr>\n",
       "      <th>2</th>\n",
       "      <td>2018-05-01</td>\n",
       "      <td>16000</td>\n",
       "      <td>Algeria</td>\n",
       "      <td>DZ</td>\n",
       "    </tr>\n",
       "    <tr>\n",
       "      <th>3</th>\n",
       "      <td>2013-10-01</td>\n",
       "      <td>17754</td>\n",
       "      <td>Angola</td>\n",
       "      <td>AO</td>\n",
       "    </tr>\n",
       "    <tr>\n",
       "      <th>4</th>\n",
       "      <td>2013-11-01</td>\n",
       "      <td>18900</td>\n",
       "      <td>Angola</td>\n",
       "      <td>AO</td>\n",
       "    </tr>\n",
       "  </tbody>\n",
       "</table>\n",
       "</div>"
      ],
      "text/plain": [
       "      period     kg country_name iso2\n",
       "0 2018-05-01  20000  Afghanistan   AF\n",
       "1 2015-08-01   8000      Algeria   DZ\n",
       "2 2018-05-01  16000      Algeria   DZ\n",
       "3 2013-10-01  17754       Angola   AO\n",
       "4 2013-11-01  18900       Angola   AO"
      ]
     },
     "execution_count": 6,
     "metadata": {},
     "output_type": "execute_result"
    }
   ],
   "source": [
    "df_plastics_joined = df_plastics.copy() \\\n",
    "    .merge(df_countries, 'left', left_on='country_code', right_on='Code') \\\n",
    "    .drop(['country_code', 'Code'], axis=1) \\\n",
    "    .rename({\n",
    "        'Name': 'country_name',\n",
    "        'ISO Code': 'iso2'\n",
    "    }, axis=1) \\\n",
    "    .sort_values(['country_name', 'period']) \\\n",
    "    .reset_index(drop=True)\n",
    "\n",
    "print(len(df_plastics_joined))\n",
    "\n",
    "df_plastics_joined.head()"
   ]
  },
  {
   "cell_type": "markdown",
   "metadata": {},
   "source": [
    "### 4. Write monthly data to CSV"
   ]
  },
  {
   "cell_type": "code",
   "execution_count": 7,
   "metadata": {},
   "outputs": [
    {
     "data": {
      "text/html": [
       "<div>\n",
       "<style scoped>\n",
       "    .dataframe tbody tr th:only-of-type {\n",
       "        vertical-align: middle;\n",
       "    }\n",
       "\n",
       "    .dataframe tbody tr th {\n",
       "        vertical-align: top;\n",
       "    }\n",
       "\n",
       "    .dataframe thead th {\n",
       "        text-align: right;\n",
       "    }\n",
       "</style>\n",
       "<table border=\"1\" class=\"dataframe\">\n",
       "  <thead>\n",
       "    <tr style=\"text-align: right;\">\n",
       "      <th></th>\n",
       "      <th>period</th>\n",
       "      <th>kg</th>\n",
       "      <th>country_name</th>\n",
       "      <th>iso2</th>\n",
       "      <th>exporter</th>\n",
       "    </tr>\n",
       "  </thead>\n",
       "  <tbody>\n",
       "    <tr>\n",
       "      <th>0</th>\n",
       "      <td>2018-05-01</td>\n",
       "      <td>20000</td>\n",
       "      <td>Afghanistan</td>\n",
       "      <td>AF</td>\n",
       "      <td>US</td>\n",
       "    </tr>\n",
       "    <tr>\n",
       "      <th>1</th>\n",
       "      <td>2015-08-01</td>\n",
       "      <td>8000</td>\n",
       "      <td>Algeria</td>\n",
       "      <td>DZ</td>\n",
       "      <td>US</td>\n",
       "    </tr>\n",
       "    <tr>\n",
       "      <th>2</th>\n",
       "      <td>2018-05-01</td>\n",
       "      <td>16000</td>\n",
       "      <td>Algeria</td>\n",
       "      <td>DZ</td>\n",
       "      <td>US</td>\n",
       "    </tr>\n",
       "    <tr>\n",
       "      <th>3</th>\n",
       "      <td>2013-10-01</td>\n",
       "      <td>17754</td>\n",
       "      <td>Angola</td>\n",
       "      <td>AO</td>\n",
       "      <td>US</td>\n",
       "    </tr>\n",
       "    <tr>\n",
       "      <th>4</th>\n",
       "      <td>2013-11-01</td>\n",
       "      <td>18900</td>\n",
       "      <td>Angola</td>\n",
       "      <td>AO</td>\n",
       "      <td>US</td>\n",
       "    </tr>\n",
       "  </tbody>\n",
       "</table>\n",
       "</div>"
      ],
      "text/plain": [
       "      period     kg country_name iso2 exporter\n",
       "0 2018-05-01  20000  Afghanistan   AF       US\n",
       "1 2015-08-01   8000      Algeria   DZ       US\n",
       "2 2018-05-01  16000      Algeria   DZ       US\n",
       "3 2013-10-01  17754       Angola   AO       US\n",
       "4 2013-11-01  18900       Angola   AO       US"
      ]
     },
     "execution_count": 7,
     "metadata": {},
     "output_type": "execute_result"
    }
   ],
   "source": [
    "df_plastics_m = df_plastics_joined.copy() \\\n",
    "    .assign(exporter = 'US')\n",
    "\n",
    "df_plastics_m.head()"
   ]
  },
  {
   "cell_type": "code",
   "execution_count": 8,
   "metadata": {},
   "outputs": [],
   "source": [
    "df_plastics_m[['period', 'iso2', 'country_name', 'exporter', 'kg']].to_csv(\n",
    "    'data/processed/us-uscb/us-plastics-exports-monthly.csv',\n",
    "    index=False\n",
    ")"
   ]
  },
  {
   "cell_type": "markdown",
   "metadata": {},
   "source": [
    "### 5. Compare H1 2017 to H1 2018"
   ]
  },
  {
   "cell_type": "code",
   "execution_count": 9,
   "metadata": {},
   "outputs": [
    {
     "data": {
      "text/html": [
       "<div>\n",
       "<style scoped>\n",
       "    .dataframe tbody tr th:only-of-type {\n",
       "        vertical-align: middle;\n",
       "    }\n",
       "\n",
       "    .dataframe tbody tr th {\n",
       "        vertical-align: top;\n",
       "    }\n",
       "\n",
       "    .dataframe thead th {\n",
       "        text-align: right;\n",
       "    }\n",
       "</style>\n",
       "<table border=\"1\" class=\"dataframe\">\n",
       "  <thead>\n",
       "    <tr style=\"text-align: right;\">\n",
       "      <th>period</th>\n",
       "      <th>2017</th>\n",
       "      <th>2018</th>\n",
       "      <th>pct_change</th>\n",
       "      <th>h1_2017_proportion</th>\n",
       "      <th>h1_2018_proportion</th>\n",
       "      <th>pct_change_proportional</th>\n",
       "    </tr>\n",
       "    <tr>\n",
       "      <th>country_name</th>\n",
       "      <th></th>\n",
       "      <th></th>\n",
       "      <th></th>\n",
       "      <th></th>\n",
       "      <th></th>\n",
       "      <th></th>\n",
       "    </tr>\n",
       "  </thead>\n",
       "  <tbody>\n",
       "    <tr>\n",
       "      <th>China</th>\n",
       "      <td>379379636.0</td>\n",
       "      <td>30247574.0</td>\n",
       "      <td>-0.920271</td>\n",
       "      <td>0.399436</td>\n",
       "      <td>0.045365</td>\n",
       "      <td>-0.354071</td>\n",
       "    </tr>\n",
       "    <tr>\n",
       "      <th>Hong Kong</th>\n",
       "      <td>257663474.0</td>\n",
       "      <td>60453277.0</td>\n",
       "      <td>-0.765379</td>\n",
       "      <td>0.271285</td>\n",
       "      <td>0.090667</td>\n",
       "      <td>-0.180618</td>\n",
       "    </tr>\n",
       "    <tr>\n",
       "      <th>Indonesia</th>\n",
       "      <td>20189337.0</td>\n",
       "      <td>8267584.0</td>\n",
       "      <td>-0.590497</td>\n",
       "      <td>0.021257</td>\n",
       "      <td>0.012400</td>\n",
       "      <td>-0.008857</td>\n",
       "    </tr>\n",
       "    <tr>\n",
       "      <th>Singapore</th>\n",
       "      <td>3278443.0</td>\n",
       "      <td>619660.0</td>\n",
       "      <td>-0.810990</td>\n",
       "      <td>0.003452</td>\n",
       "      <td>0.000929</td>\n",
       "      <td>-0.002522</td>\n",
       "    </tr>\n",
       "    <tr>\n",
       "      <th>Colombia</th>\n",
       "      <td>2353296.0</td>\n",
       "      <td>1110145.0</td>\n",
       "      <td>-0.528260</td>\n",
       "      <td>0.002478</td>\n",
       "      <td>0.001665</td>\n",
       "      <td>-0.000813</td>\n",
       "    </tr>\n",
       "  </tbody>\n",
       "</table>\n",
       "</div>"
      ],
      "text/plain": [
       "period               2017        2018  pct_change  h1_2017_proportion  \\\n",
       "country_name                                                            \n",
       "China         379379636.0  30247574.0   -0.920271            0.399436   \n",
       "Hong Kong     257663474.0  60453277.0   -0.765379            0.271285   \n",
       "Indonesia      20189337.0   8267584.0   -0.590497            0.021257   \n",
       "Singapore       3278443.0    619660.0   -0.810990            0.003452   \n",
       "Colombia        2353296.0   1110145.0   -0.528260            0.002478   \n",
       "\n",
       "period        h1_2018_proportion  pct_change_proportional  \n",
       "country_name                                               \n",
       "China                   0.045365                -0.354071  \n",
       "Hong Kong               0.090667                -0.180618  \n",
       "Indonesia               0.012400                -0.008857  \n",
       "Singapore               0.000929                -0.002522  \n",
       "Colombia                0.001665                -0.000813  "
      ]
     },
     "execution_count": 9,
     "metadata": {},
     "output_type": "execute_result"
    }
   ],
   "source": [
    "df_plastics_h1 = df_plastics_joined.query(\n",
    "        'period.dt.year in [2017, 2018] & \\\n",
    "        period.dt.month in [1, 2, 3, 4, 5, 6]'\n",
    "    ) \\\n",
    "    .pivot_table(\n",
    "        values='kg',\n",
    "        index='country_name',\n",
    "        columns=df_plastics_joined['period'].dt.year,\n",
    "        aggfunc='sum'\n",
    "    ) \\\n",
    "    .assign(pct_change = lambda x: (x[2018] - x[2017]) / x[2017]) \\\n",
    "    .assign(h1_2017_proportion = lambda x: x[2017] / x[2017].sum()) \\\n",
    "    .assign(h1_2018_proportion = lambda x: x[2018] / x[2018].sum()) \\\n",
    "    .assign(pct_change_proportional = lambda x:\n",
    "        x['h1_2018_proportion'] - x['h1_2017_proportion']\n",
    "    ) \\\n",
    "    .sort_values('pct_change_proportional')\n",
    "\n",
    "df_plastics_h1.head()"
   ]
  },
  {
   "cell_type": "markdown",
   "metadata": {},
   "source": [
    "### 6. Write H1 comparison data to CSV"
   ]
  },
  {
   "cell_type": "code",
   "execution_count": 10,
   "metadata": {},
   "outputs": [],
   "source": [
    "# df_plastics_h1.to_csv(\n",
    "#     'data/processed/us-uscb/us-plastics-exports-h1.csv',\n",
    "#     index=False\n",
    "# )"
   ]
  },
  {
   "cell_type": "markdown",
   "metadata": {},
   "source": [
    "## Paper exports\n",
    "\n",
    "---"
   ]
  },
  {
   "cell_type": "code",
   "execution_count": 11,
   "metadata": {},
   "outputs": [
    {
     "name": "stdout",
     "output_type": "stream",
     "text": [
      "3248\n"
     ]
    },
    {
     "data": {
      "text/html": [
       "<div>\n",
       "<style scoped>\n",
       "    .dataframe tbody tr th:only-of-type {\n",
       "        vertical-align: middle;\n",
       "    }\n",
       "\n",
       "    .dataframe tbody tr th {\n",
       "        vertical-align: top;\n",
       "    }\n",
       "\n",
       "    .dataframe thead th {\n",
       "        text-align: right;\n",
       "    }\n",
       "</style>\n",
       "<table border=\"1\" class=\"dataframe\">\n",
       "  <thead>\n",
       "    <tr style=\"text-align: right;\">\n",
       "      <th></th>\n",
       "      <th>country_code</th>\n",
       "      <th>period</th>\n",
       "      <th>kg</th>\n",
       "    </tr>\n",
       "  </thead>\n",
       "  <tbody>\n",
       "    <tr>\n",
       "      <th>0</th>\n",
       "      <td>1220</td>\n",
       "      <td>2013-01-01</td>\n",
       "      <td>56766000</td>\n",
       "    </tr>\n",
       "    <tr>\n",
       "      <th>1</th>\n",
       "      <td>1220</td>\n",
       "      <td>2013-02-01</td>\n",
       "      <td>47396000</td>\n",
       "    </tr>\n",
       "    <tr>\n",
       "      <th>2</th>\n",
       "      <td>1220</td>\n",
       "      <td>2013-03-01</td>\n",
       "      <td>49992000</td>\n",
       "    </tr>\n",
       "    <tr>\n",
       "      <th>3</th>\n",
       "      <td>1220</td>\n",
       "      <td>2013-04-01</td>\n",
       "      <td>51477000</td>\n",
       "    </tr>\n",
       "    <tr>\n",
       "      <th>4</th>\n",
       "      <td>1220</td>\n",
       "      <td>2013-05-01</td>\n",
       "      <td>52426000</td>\n",
       "    </tr>\n",
       "  </tbody>\n",
       "</table>\n",
       "</div>"
      ],
      "text/plain": [
       "   country_code     period        kg\n",
       "0          1220 2013-01-01  56766000\n",
       "1          1220 2013-02-01  47396000\n",
       "2          1220 2013-03-01  49992000\n",
       "3          1220 2013-04-01  51477000\n",
       "4          1220 2013-05-01  52426000"
      ]
     },
     "execution_count": 11,
     "metadata": {},
     "output_type": "execute_result"
    }
   ],
   "source": [
    "df_paper = pd.read_csv(\n",
    "        'data/raw/us-uscb/us-paper-exports.csv',\n",
    "        header=4,\n",
    "        usecols=[*range(0, 4)],\n",
    "        dtype={ 'Quantity 1': 'int' },\n",
    "        parse_dates=['Time'],\n",
    "        thousands=','\n",
    "    ) \\\n",
    "    .assign(kg = lambda x: x['Quantity 1'] * 1000) \\\n",
    "    .drop('Quantity 1', axis=1) \\\n",
    "    .rename({\n",
    "        'Country': 'country_code',\n",
    "        'Time': 'period',\n",
    "    }, axis=1) \\\n",
    "    .groupby(['country_code', 'period'], as_index=False).sum() \\\n",
    "    .sort_values(['country_code', 'period']) \\\n",
    "    .reset_index(drop=True)\n",
    "\n",
    "print(len(df_paper))\n",
    "\n",
    "df_paper.head()"
   ]
  },
  {
   "cell_type": "code",
   "execution_count": 12,
   "metadata": {},
   "outputs": [
    {
     "data": {
      "text/plain": [
       "country_code             int64\n",
       "period          datetime64[ns]\n",
       "kg                       int64\n",
       "dtype: object"
      ]
     },
     "execution_count": 12,
     "metadata": {},
     "output_type": "execute_result"
    }
   ],
   "source": [
    "df_paper.dtypes"
   ]
  },
  {
   "cell_type": "code",
   "execution_count": 13,
   "metadata": {},
   "outputs": [
    {
     "data": {
      "text/plain": [
       "country_code    False\n",
       "period          False\n",
       "kg              False\n",
       "dtype: bool"
      ]
     },
     "execution_count": 13,
     "metadata": {},
     "output_type": "execute_result"
    }
   ],
   "source": [
    "df_paper.isnull().any()"
   ]
  },
  {
   "cell_type": "code",
   "execution_count": 14,
   "metadata": {},
   "outputs": [
    {
     "name": "stdout",
     "output_type": "stream",
     "text": [
      "3248\n"
     ]
    },
    {
     "data": {
      "text/html": [
       "<div>\n",
       "<style scoped>\n",
       "    .dataframe tbody tr th:only-of-type {\n",
       "        vertical-align: middle;\n",
       "    }\n",
       "\n",
       "    .dataframe tbody tr th {\n",
       "        vertical-align: top;\n",
       "    }\n",
       "\n",
       "    .dataframe thead th {\n",
       "        text-align: right;\n",
       "    }\n",
       "</style>\n",
       "<table border=\"1\" class=\"dataframe\">\n",
       "  <thead>\n",
       "    <tr style=\"text-align: right;\">\n",
       "      <th></th>\n",
       "      <th>period</th>\n",
       "      <th>kg</th>\n",
       "      <th>country_name</th>\n",
       "      <th>iso2</th>\n",
       "    </tr>\n",
       "  </thead>\n",
       "  <tbody>\n",
       "    <tr>\n",
       "      <th>0</th>\n",
       "      <td>2018-03-01</td>\n",
       "      <td>20000</td>\n",
       "      <td>Afghanistan</td>\n",
       "      <td>AF</td>\n",
       "    </tr>\n",
       "    <tr>\n",
       "      <th>1</th>\n",
       "      <td>2013-10-01</td>\n",
       "      <td>32000</td>\n",
       "      <td>Albania</td>\n",
       "      <td>AL</td>\n",
       "    </tr>\n",
       "    <tr>\n",
       "      <th>2</th>\n",
       "      <td>2018-05-01</td>\n",
       "      <td>177000</td>\n",
       "      <td>Albania</td>\n",
       "      <td>AL</td>\n",
       "    </tr>\n",
       "    <tr>\n",
       "      <th>3</th>\n",
       "      <td>2013-02-01</td>\n",
       "      <td>68000</td>\n",
       "      <td>Algeria</td>\n",
       "      <td>DZ</td>\n",
       "    </tr>\n",
       "    <tr>\n",
       "      <th>4</th>\n",
       "      <td>2013-03-01</td>\n",
       "      <td>38000</td>\n",
       "      <td>Algeria</td>\n",
       "      <td>DZ</td>\n",
       "    </tr>\n",
       "  </tbody>\n",
       "</table>\n",
       "</div>"
      ],
      "text/plain": [
       "      period      kg country_name iso2\n",
       "0 2018-03-01   20000  Afghanistan   AF\n",
       "1 2013-10-01   32000      Albania   AL\n",
       "2 2018-05-01  177000      Albania   AL\n",
       "3 2013-02-01   68000      Algeria   DZ\n",
       "4 2013-03-01   38000      Algeria   DZ"
      ]
     },
     "execution_count": 14,
     "metadata": {},
     "output_type": "execute_result"
    }
   ],
   "source": [
    "df_paper_joined = df_paper.copy() \\\n",
    "    .merge(df_countries, 'left', left_on='country_code', right_on='Code') \\\n",
    "    .drop(['country_code', 'Code'], axis=1) \\\n",
    "    .rename({\n",
    "        'Name': 'country_name',\n",
    "        'ISO Code': 'iso2'\n",
    "    }, axis=1) \\\n",
    "    .sort_values(['country_name', 'period']) \\\n",
    "    .reset_index(drop=True)\n",
    "\n",
    "print(len(df_paper_joined))\n",
    "\n",
    "df_paper_joined.head()"
   ]
  },
  {
   "cell_type": "code",
   "execution_count": 15,
   "metadata": {},
   "outputs": [
    {
     "data": {
      "text/html": [
       "<div>\n",
       "<style scoped>\n",
       "    .dataframe tbody tr th:only-of-type {\n",
       "        vertical-align: middle;\n",
       "    }\n",
       "\n",
       "    .dataframe tbody tr th {\n",
       "        vertical-align: top;\n",
       "    }\n",
       "\n",
       "    .dataframe thead th {\n",
       "        text-align: right;\n",
       "    }\n",
       "</style>\n",
       "<table border=\"1\" class=\"dataframe\">\n",
       "  <thead>\n",
       "    <tr style=\"text-align: right;\">\n",
       "      <th></th>\n",
       "      <th>period</th>\n",
       "      <th>kg</th>\n",
       "      <th>country_name</th>\n",
       "      <th>iso2</th>\n",
       "      <th>exporter</th>\n",
       "    </tr>\n",
       "  </thead>\n",
       "  <tbody>\n",
       "    <tr>\n",
       "      <th>0</th>\n",
       "      <td>2018-03-01</td>\n",
       "      <td>20000</td>\n",
       "      <td>Afghanistan</td>\n",
       "      <td>AF</td>\n",
       "      <td>US</td>\n",
       "    </tr>\n",
       "    <tr>\n",
       "      <th>1</th>\n",
       "      <td>2013-10-01</td>\n",
       "      <td>32000</td>\n",
       "      <td>Albania</td>\n",
       "      <td>AL</td>\n",
       "      <td>US</td>\n",
       "    </tr>\n",
       "    <tr>\n",
       "      <th>2</th>\n",
       "      <td>2018-05-01</td>\n",
       "      <td>177000</td>\n",
       "      <td>Albania</td>\n",
       "      <td>AL</td>\n",
       "      <td>US</td>\n",
       "    </tr>\n",
       "    <tr>\n",
       "      <th>3</th>\n",
       "      <td>2013-02-01</td>\n",
       "      <td>68000</td>\n",
       "      <td>Algeria</td>\n",
       "      <td>DZ</td>\n",
       "      <td>US</td>\n",
       "    </tr>\n",
       "    <tr>\n",
       "      <th>4</th>\n",
       "      <td>2013-03-01</td>\n",
       "      <td>38000</td>\n",
       "      <td>Algeria</td>\n",
       "      <td>DZ</td>\n",
       "      <td>US</td>\n",
       "    </tr>\n",
       "  </tbody>\n",
       "</table>\n",
       "</div>"
      ],
      "text/plain": [
       "      period      kg country_name iso2 exporter\n",
       "0 2018-03-01   20000  Afghanistan   AF       US\n",
       "1 2013-10-01   32000      Albania   AL       US\n",
       "2 2018-05-01  177000      Albania   AL       US\n",
       "3 2013-02-01   68000      Algeria   DZ       US\n",
       "4 2013-03-01   38000      Algeria   DZ       US"
      ]
     },
     "execution_count": 15,
     "metadata": {},
     "output_type": "execute_result"
    }
   ],
   "source": [
    "df_paper_m = df_paper_joined.copy() \\\n",
    "    .assign(exporter = 'US')\n",
    "\n",
    "df_paper_m.head()"
   ]
  },
  {
   "cell_type": "code",
   "execution_count": 16,
   "metadata": {},
   "outputs": [],
   "source": [
    "df_paper_m[['period', 'iso2', 'country_name', 'exporter', 'kg']].to_csv(\n",
    "    'data/processed/us-uscb/us-paper-exports-monthly.csv',\n",
    "    index=False\n",
    ")"
   ]
  },
  {
   "cell_type": "code",
   "execution_count": 17,
   "metadata": {},
   "outputs": [
    {
     "data": {
      "text/html": [
       "<div>\n",
       "<style scoped>\n",
       "    .dataframe tbody tr th:only-of-type {\n",
       "        vertical-align: middle;\n",
       "    }\n",
       "\n",
       "    .dataframe tbody tr th {\n",
       "        vertical-align: top;\n",
       "    }\n",
       "\n",
       "    .dataframe thead th {\n",
       "        text-align: right;\n",
       "    }\n",
       "</style>\n",
       "<table border=\"1\" class=\"dataframe\">\n",
       "  <thead>\n",
       "    <tr style=\"text-align: right;\">\n",
       "      <th>period</th>\n",
       "      <th>2017</th>\n",
       "      <th>2018</th>\n",
       "      <th>pct_change</th>\n",
       "      <th>h1_2017_proportion</th>\n",
       "      <th>h1_2018_proportion</th>\n",
       "      <th>pct_change_proportional</th>\n",
       "    </tr>\n",
       "    <tr>\n",
       "      <th>country_name</th>\n",
       "      <th></th>\n",
       "      <th></th>\n",
       "      <th></th>\n",
       "      <th></th>\n",
       "      <th></th>\n",
       "      <th></th>\n",
       "    </tr>\n",
       "  </thead>\n",
       "  <tbody>\n",
       "    <tr>\n",
       "      <th>China</th>\n",
       "      <td>6.172292e+09</td>\n",
       "      <td>3.792834e+09</td>\n",
       "      <td>-0.385506</td>\n",
       "      <td>0.664276</td>\n",
       "      <td>0.413448</td>\n",
       "      <td>-0.250828</td>\n",
       "    </tr>\n",
       "    <tr>\n",
       "      <th>Chile</th>\n",
       "      <td>2.097600e+07</td>\n",
       "      <td>1.473800e+07</td>\n",
       "      <td>-0.297387</td>\n",
       "      <td>0.002257</td>\n",
       "      <td>0.001607</td>\n",
       "      <td>-0.000651</td>\n",
       "    </tr>\n",
       "    <tr>\n",
       "      <th>Bolivia</th>\n",
       "      <td>3.409000e+06</td>\n",
       "      <td>2.890000e+05</td>\n",
       "      <td>-0.915224</td>\n",
       "      <td>0.000367</td>\n",
       "      <td>0.000032</td>\n",
       "      <td>-0.000335</td>\n",
       "    </tr>\n",
       "    <tr>\n",
       "      <th>Panama</th>\n",
       "      <td>1.570000e+06</td>\n",
       "      <td>8.400000e+04</td>\n",
       "      <td>-0.946497</td>\n",
       "      <td>0.000169</td>\n",
       "      <td>0.000009</td>\n",
       "      <td>-0.000160</td>\n",
       "    </tr>\n",
       "    <tr>\n",
       "      <th>Argentina</th>\n",
       "      <td>1.601000e+06</td>\n",
       "      <td>1.810000e+05</td>\n",
       "      <td>-0.886946</td>\n",
       "      <td>0.000172</td>\n",
       "      <td>0.000020</td>\n",
       "      <td>-0.000153</td>\n",
       "    </tr>\n",
       "  </tbody>\n",
       "</table>\n",
       "</div>"
      ],
      "text/plain": [
       "period                2017          2018  pct_change  h1_2017_proportion  \\\n",
       "country_name                                                               \n",
       "China         6.172292e+09  3.792834e+09   -0.385506            0.664276   \n",
       "Chile         2.097600e+07  1.473800e+07   -0.297387            0.002257   \n",
       "Bolivia       3.409000e+06  2.890000e+05   -0.915224            0.000367   \n",
       "Panama        1.570000e+06  8.400000e+04   -0.946497            0.000169   \n",
       "Argentina     1.601000e+06  1.810000e+05   -0.886946            0.000172   \n",
       "\n",
       "period        h1_2018_proportion  pct_change_proportional  \n",
       "country_name                                               \n",
       "China                   0.413448                -0.250828  \n",
       "Chile                   0.001607                -0.000651  \n",
       "Bolivia                 0.000032                -0.000335  \n",
       "Panama                  0.000009                -0.000160  \n",
       "Argentina               0.000020                -0.000153  "
      ]
     },
     "execution_count": 17,
     "metadata": {},
     "output_type": "execute_result"
    }
   ],
   "source": [
    "df_paper_h1 = df_paper_joined.query(\n",
    "        'period.dt.year in [2017, 2018] & \\\n",
    "        period.dt.month in [1, 2, 3, 4, 5, 6]'\n",
    "    ) \\\n",
    "    .pivot_table(\n",
    "        values='kg',\n",
    "        index='country_name',\n",
    "        columns=df_paper_joined['period'].dt.year,\n",
    "        aggfunc='sum'\n",
    "    ) \\\n",
    "    .assign(pct_change = lambda x: (x[2018] - x[2017]) / x[2017]) \\\n",
    "    .assign(h1_2017_proportion = lambda x: x[2017] / x[2017].sum()) \\\n",
    "    .assign(h1_2018_proportion = lambda x: x[2018] / x[2018].sum()) \\\n",
    "    .assign(pct_change_proportional = lambda x:\n",
    "        x['h1_2018_proportion'] - x['h1_2017_proportion']\n",
    "    ) \\\n",
    "    .sort_values('pct_change_proportional')\n",
    "\n",
    "df_paper_h1.head()"
   ]
  },
  {
   "cell_type": "code",
   "execution_count": 18,
   "metadata": {},
   "outputs": [],
   "source": [
    "# df_paper_h1.to_csv('data/processed/us-uscb/us-paper-exports-h1.csv')"
   ]
  }
 ],
 "metadata": {
  "kernelspec": {
   "display_name": "Python 3",
   "language": "python",
   "name": "python3"
  },
  "language_info": {
   "codemirror_mode": {
    "name": "ipython",
    "version": 3
   },
   "file_extension": ".py",
   "mimetype": "text/x-python",
   "name": "python",
   "nbconvert_exporter": "python",
   "pygments_lexer": "ipython3",
   "version": "3.6.3"
  }
 },
 "nbformat": 4,
 "nbformat_minor": 2
}
