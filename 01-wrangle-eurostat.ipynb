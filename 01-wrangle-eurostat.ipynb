{
 "cells": [
  {
   "cell_type": "markdown",
   "metadata": {},
   "source": [
    "# Eurostat exports data\n",
    "\n",
    "Source: [Eurostat](https://ec.europa.eu/eurostat/data/database)\n",
    "\n",
    "## 1. Import, tidy and transform data"
   ]
  },
  {
   "cell_type": "code",
   "execution_count": 1,
   "metadata": {},
   "outputs": [],
   "source": [
    "import pandas as pd\n",
    "\n",
    "country = 'it' # 'de', 'fr', 'gb', 'it'\n",
    "material = 'paper' # 'plastics', 'paper'"
   ]
  },
  {
   "cell_type": "code",
   "execution_count": 2,
   "metadata": {},
   "outputs": [
    {
     "name": "stdout",
     "output_type": "stream",
     "text": [
      "17952\n"
     ]
    },
    {
     "data": {
      "text/html": [
       "<div>\n",
       "<style scoped>\n",
       "    .dataframe tbody tr th:only-of-type {\n",
       "        vertical-align: middle;\n",
       "    }\n",
       "\n",
       "    .dataframe tbody tr th {\n",
       "        vertical-align: top;\n",
       "    }\n",
       "\n",
       "    .dataframe thead th {\n",
       "        text-align: right;\n",
       "    }\n",
       "</style>\n",
       "<table border=\"1\" class=\"dataframe\">\n",
       "  <thead>\n",
       "    <tr style=\"text-align: right;\">\n",
       "      <th></th>\n",
       "      <th>period</th>\n",
       "      <th>iso2</th>\n",
       "      <th>country_name</th>\n",
       "      <th>exporter</th>\n",
       "      <th>kg</th>\n",
       "    </tr>\n",
       "  </thead>\n",
       "  <tbody>\n",
       "    <tr>\n",
       "      <th>0</th>\n",
       "      <td>2013-01-01</td>\n",
       "      <td>AF</td>\n",
       "      <td>AFGHANISTAN</td>\n",
       "      <td>ITALY</td>\n",
       "      <td>NaN</td>\n",
       "    </tr>\n",
       "    <tr>\n",
       "      <th>1</th>\n",
       "      <td>2013-02-01</td>\n",
       "      <td>AF</td>\n",
       "      <td>AFGHANISTAN</td>\n",
       "      <td>ITALY</td>\n",
       "      <td>NaN</td>\n",
       "    </tr>\n",
       "    <tr>\n",
       "      <th>2</th>\n",
       "      <td>2013-03-01</td>\n",
       "      <td>AF</td>\n",
       "      <td>AFGHANISTAN</td>\n",
       "      <td>ITALY</td>\n",
       "      <td>NaN</td>\n",
       "    </tr>\n",
       "    <tr>\n",
       "      <th>3</th>\n",
       "      <td>2013-04-01</td>\n",
       "      <td>AF</td>\n",
       "      <td>AFGHANISTAN</td>\n",
       "      <td>ITALY</td>\n",
       "      <td>NaN</td>\n",
       "    </tr>\n",
       "    <tr>\n",
       "      <th>4</th>\n",
       "      <td>2013-05-01</td>\n",
       "      <td>AF</td>\n",
       "      <td>AFGHANISTAN</td>\n",
       "      <td>ITALY</td>\n",
       "      <td>NaN</td>\n",
       "    </tr>\n",
       "  </tbody>\n",
       "</table>\n",
       "</div>"
      ],
      "text/plain": [
       "      period iso2 country_name exporter  kg\n",
       "0 2013-01-01   AF  AFGHANISTAN    ITALY NaN\n",
       "1 2013-02-01   AF  AFGHANISTAN    ITALY NaN\n",
       "2 2013-03-01   AF  AFGHANISTAN    ITALY NaN\n",
       "3 2013-04-01   AF  AFGHANISTAN    ITALY NaN\n",
       "4 2013-05-01   AF  AFGHANISTAN    ITALY NaN"
      ]
     },
     "execution_count": 2,
     "metadata": {},
     "output_type": "execute_result"
    }
   ],
   "source": [
    "df = pd.read_csv(\n",
    "        f'data/raw/de-fr-gb-it-eurostat/{country}-{material}-exports.csv',\n",
    "        usecols=[*range(0, 4), 7],\n",
    "        keep_default_na=False, # Necessary because the ISO code for Namibia is ‘NA’\n",
    "        parse_dates=['PERIOD']\n",
    "    ) \\\n",
    "    .replace({ 'Value': { ':': '' } }) \\\n",
    "    .assign(Value = lambda x: pd.to_numeric(x['Value'].str.replace(',', ''))) \\\n",
    "    .assign(kg = lambda x: x['Value'] * 100) \\\n",
    "    .rename({\n",
    "        'PERIOD': 'period',\n",
    "        'PARTNER': 'iso2',\n",
    "        'PARTNER_LABEL': 'country_name',\n",
    "        'REPORTER': 'exporter'\n",
    "    }, axis=1) \\\n",
    "    .drop('Value', axis=1) \\\n",
    "    .sort_values(['country_name', 'period']) \\\n",
    "    .reset_index(drop=True)\n",
    "\n",
    "print(len(df))\n",
    "\n",
    "df.head()"
   ]
  },
  {
   "cell_type": "markdown",
   "metadata": {},
   "source": [
    "## 2. Check data types and nulls"
   ]
  },
  {
   "cell_type": "code",
   "execution_count": 3,
   "metadata": {},
   "outputs": [
    {
     "data": {
      "text/plain": [
       "period          datetime64[ns]\n",
       "iso2                    object\n",
       "country_name            object\n",
       "exporter                object\n",
       "kg                     float64\n",
       "dtype: object"
      ]
     },
     "execution_count": 3,
     "metadata": {},
     "output_type": "execute_result"
    }
   ],
   "source": [
    "df.dtypes"
   ]
  },
  {
   "cell_type": "code",
   "execution_count": 4,
   "metadata": {},
   "outputs": [
    {
     "data": {
      "text/plain": [
       "period          False\n",
       "iso2            False\n",
       "country_name    False\n",
       "exporter        False\n",
       "kg               True\n",
       "dtype: bool"
      ]
     },
     "execution_count": 4,
     "metadata": {},
     "output_type": "execute_result"
    }
   ],
   "source": [
    "df.isnull().any()"
   ]
  },
  {
   "cell_type": "markdown",
   "metadata": {},
   "source": [
    "## 3. Identify countries importing zero waste"
   ]
  },
  {
   "cell_type": "code",
   "execution_count": 5,
   "metadata": {},
   "outputs": [
    {
     "name": "stdout",
     "output_type": "stream",
     "text": [
      "192\n"
     ]
    },
    {
     "data": {
      "text/plain": [
       "Index(['AD', 'AF', 'AG', 'AI', 'AM', 'AN', 'AO', 'AQ', 'AR', 'AS',\n",
       "       ...\n",
       "       'XO', 'XP', 'XR', 'XZ', 'YD', 'YE', 'YT', 'YU', 'ZA', 'ZM'],\n",
       "      dtype='object', name='iso2', length=192)"
      ]
     },
     "execution_count": 5,
     "metadata": {},
     "output_type": "execute_result"
    }
   ],
   "source": [
    "null_countries = df.copy() \\\n",
    "    .groupby('iso2').sum() \\\n",
    "    .query('kg == 0') \\\n",
    "    .index\n",
    "\n",
    "print(len(null_countries))\n",
    "\n",
    "null_countries"
   ]
  },
  {
   "cell_type": "markdown",
   "metadata": {},
   "source": [
    "## 4. Check monthly export totals"
   ]
  },
  {
   "cell_type": "code",
   "execution_count": 6,
   "metadata": {},
   "outputs": [
    {
     "name": "stdout",
     "output_type": "stream",
     "text": [
      "5280\n"
     ]
    },
    {
     "data": {
      "text/html": [
       "<div>\n",
       "<style scoped>\n",
       "    .dataframe tbody tr th:only-of-type {\n",
       "        vertical-align: middle;\n",
       "    }\n",
       "\n",
       "    .dataframe tbody tr th {\n",
       "        vertical-align: top;\n",
       "    }\n",
       "\n",
       "    .dataframe thead th {\n",
       "        text-align: right;\n",
       "    }\n",
       "</style>\n",
       "<table border=\"1\" class=\"dataframe\">\n",
       "  <thead>\n",
       "    <tr style=\"text-align: right;\">\n",
       "      <th></th>\n",
       "      <th>period</th>\n",
       "      <th>iso2</th>\n",
       "      <th>country_name</th>\n",
       "      <th>exporter</th>\n",
       "      <th>kg</th>\n",
       "    </tr>\n",
       "  </thead>\n",
       "  <tbody>\n",
       "    <tr>\n",
       "      <th>0</th>\n",
       "      <td>2013-01-01</td>\n",
       "      <td>AL</td>\n",
       "      <td>ALBANIA</td>\n",
       "      <td>IT</td>\n",
       "      <td>NaN</td>\n",
       "    </tr>\n",
       "    <tr>\n",
       "      <th>1</th>\n",
       "      <td>2013-02-01</td>\n",
       "      <td>AL</td>\n",
       "      <td>ALBANIA</td>\n",
       "      <td>IT</td>\n",
       "      <td>NaN</td>\n",
       "    </tr>\n",
       "    <tr>\n",
       "      <th>2</th>\n",
       "      <td>2013-03-01</td>\n",
       "      <td>AL</td>\n",
       "      <td>ALBANIA</td>\n",
       "      <td>IT</td>\n",
       "      <td>NaN</td>\n",
       "    </tr>\n",
       "    <tr>\n",
       "      <th>3</th>\n",
       "      <td>2013-04-01</td>\n",
       "      <td>AL</td>\n",
       "      <td>ALBANIA</td>\n",
       "      <td>IT</td>\n",
       "      <td>NaN</td>\n",
       "    </tr>\n",
       "    <tr>\n",
       "      <th>4</th>\n",
       "      <td>2013-05-01</td>\n",
       "      <td>AL</td>\n",
       "      <td>ALBANIA</td>\n",
       "      <td>IT</td>\n",
       "      <td>NaN</td>\n",
       "    </tr>\n",
       "  </tbody>\n",
       "</table>\n",
       "</div>"
      ],
      "text/plain": [
       "      period iso2 country_name exporter  kg\n",
       "0 2013-01-01   AL      ALBANIA       IT NaN\n",
       "1 2013-02-01   AL      ALBANIA       IT NaN\n",
       "2 2013-03-01   AL      ALBANIA       IT NaN\n",
       "3 2013-04-01   AL      ALBANIA       IT NaN\n",
       "4 2013-05-01   AL      ALBANIA       IT NaN"
      ]
     },
     "execution_count": 6,
     "metadata": {},
     "output_type": "execute_result"
    }
   ],
   "source": [
    "df_monthly = df.copy() \\\n",
    "    .query('iso2 not in @null_countries') \\\n",
    "    .assign(exporter = country.upper()) \\\n",
    "    .reset_index(drop=True)\n",
    "\n",
    "print(len(df_monthly))\n",
    "\n",
    "df_monthly.head()"
   ]
  },
  {
   "cell_type": "code",
   "execution_count": 7,
   "metadata": {},
   "outputs": [
    {
     "data": {
      "text/html": [
       "<div>\n",
       "<style scoped>\n",
       "    .dataframe tbody tr th:only-of-type {\n",
       "        vertical-align: middle;\n",
       "    }\n",
       "\n",
       "    .dataframe tbody tr th {\n",
       "        vertical-align: top;\n",
       "    }\n",
       "\n",
       "    .dataframe thead th {\n",
       "        text-align: right;\n",
       "    }\n",
       "</style>\n",
       "<table border=\"1\" class=\"dataframe\">\n",
       "  <thead>\n",
       "    <tr style=\"text-align: right;\">\n",
       "      <th></th>\n",
       "      <th>kg</th>\n",
       "    </tr>\n",
       "    <tr>\n",
       "      <th>period</th>\n",
       "      <th></th>\n",
       "    </tr>\n",
       "  </thead>\n",
       "  <tbody>\n",
       "    <tr>\n",
       "      <th>1</th>\n",
       "      <td>221283800.0</td>\n",
       "    </tr>\n",
       "    <tr>\n",
       "      <th>2</th>\n",
       "      <td>192159300.0</td>\n",
       "    </tr>\n",
       "    <tr>\n",
       "      <th>3</th>\n",
       "      <td>211557700.0</td>\n",
       "    </tr>\n",
       "    <tr>\n",
       "      <th>4</th>\n",
       "      <td>103480800.0</td>\n",
       "    </tr>\n",
       "    <tr>\n",
       "      <th>5</th>\n",
       "      <td>136740900.0</td>\n",
       "    </tr>\n",
       "    <tr>\n",
       "      <th>6</th>\n",
       "      <td>158193600.0</td>\n",
       "    </tr>\n",
       "    <tr>\n",
       "      <th>7</th>\n",
       "      <td>165082200.0</td>\n",
       "    </tr>\n",
       "    <tr>\n",
       "      <th>8</th>\n",
       "      <td>117579700.0</td>\n",
       "    </tr>\n",
       "    <tr>\n",
       "      <th>9</th>\n",
       "      <td>102540400.0</td>\n",
       "    </tr>\n",
       "    <tr>\n",
       "      <th>10</th>\n",
       "      <td>168090000.0</td>\n",
       "    </tr>\n",
       "    <tr>\n",
       "      <th>11</th>\n",
       "      <td>168675200.0</td>\n",
       "    </tr>\n",
       "    <tr>\n",
       "      <th>12</th>\n",
       "      <td>121423000.0</td>\n",
       "    </tr>\n",
       "  </tbody>\n",
       "</table>\n",
       "</div>"
      ],
      "text/plain": [
       "                 kg\n",
       "period             \n",
       "1       221283800.0\n",
       "2       192159300.0\n",
       "3       211557700.0\n",
       "4       103480800.0\n",
       "5       136740900.0\n",
       "6       158193600.0\n",
       "7       165082200.0\n",
       "8       117579700.0\n",
       "9       102540400.0\n",
       "10      168090000.0\n",
       "11      168675200.0\n",
       "12      121423000.0"
      ]
     },
     "execution_count": 7,
     "metadata": {},
     "output_type": "execute_result"
    }
   ],
   "source": [
    "df_monthly.query('period.dt.year == 2017') \\\n",
    "    .groupby(df_monthly['period'].dt.month).sum()"
   ]
  },
  {
   "cell_type": "markdown",
   "metadata": {},
   "source": [
    "## 5. Write monthly data to CSV"
   ]
  },
  {
   "cell_type": "code",
   "execution_count": 8,
   "metadata": {},
   "outputs": [],
   "source": [
    "df_monthly.to_csv(\n",
    "    f'data/processed/de-fr-gb-it-eurostat/{country}-{material}-exports-monthly.csv',\n",
    "    index=False\n",
    ")"
   ]
  },
  {
   "cell_type": "markdown",
   "metadata": {},
   "source": [
    "## 6. Compare H1 2017 to H1 2018"
   ]
  },
  {
   "cell_type": "code",
   "execution_count": 9,
   "metadata": {},
   "outputs": [
    {
     "name": "stdout",
     "output_type": "stream",
     "text": [
      "80\n"
     ]
    },
    {
     "data": {
      "text/html": [
       "<div>\n",
       "<style scoped>\n",
       "    .dataframe tbody tr th:only-of-type {\n",
       "        vertical-align: middle;\n",
       "    }\n",
       "\n",
       "    .dataframe tbody tr th {\n",
       "        vertical-align: top;\n",
       "    }\n",
       "\n",
       "    .dataframe thead th {\n",
       "        text-align: right;\n",
       "    }\n",
       "</style>\n",
       "<table border=\"1\" class=\"dataframe\">\n",
       "  <thead>\n",
       "    <tr style=\"text-align: right;\">\n",
       "      <th>period</th>\n",
       "      <th>2017</th>\n",
       "      <th>2018</th>\n",
       "      <th>pct_change</th>\n",
       "      <th>h1_2017_proportion</th>\n",
       "      <th>h1_2018_proportion</th>\n",
       "      <th>pct_change_proportional</th>\n",
       "    </tr>\n",
       "    <tr>\n",
       "      <th>country_name</th>\n",
       "      <th></th>\n",
       "      <th></th>\n",
       "      <th></th>\n",
       "      <th></th>\n",
       "      <th></th>\n",
       "      <th></th>\n",
       "    </tr>\n",
       "  </thead>\n",
       "  <tbody>\n",
       "    <tr>\n",
       "      <th>CHINA (PEOPLE'S REPUBLIC OF)</th>\n",
       "      <td>543917000.0</td>\n",
       "      <td>211809400.0</td>\n",
       "      <td>-0.610585</td>\n",
       "      <td>0.531472</td>\n",
       "      <td>0.252221</td>\n",
       "      <td>-0.279251</td>\n",
       "    </tr>\n",
       "    <tr>\n",
       "      <th>SWITZERLAND (incl. LI-&gt;1994)</th>\n",
       "      <td>24047800.0</td>\n",
       "      <td>3365300.0</td>\n",
       "      <td>-0.860058</td>\n",
       "      <td>0.023498</td>\n",
       "      <td>0.004007</td>\n",
       "      <td>-0.019490</td>\n",
       "    </tr>\n",
       "    <tr>\n",
       "      <th>MALAYSIA</th>\n",
       "      <td>13749000.0</td>\n",
       "      <td>5147500.0</td>\n",
       "      <td>-0.625609</td>\n",
       "      <td>0.013434</td>\n",
       "      <td>0.006130</td>\n",
       "      <td>-0.007305</td>\n",
       "    </tr>\n",
       "    <tr>\n",
       "      <th>VIETNAM (excl. NORTH -&gt; 1976)</th>\n",
       "      <td>60395600.0</td>\n",
       "      <td>45854700.0</td>\n",
       "      <td>-0.240761</td>\n",
       "      <td>0.059014</td>\n",
       "      <td>0.054603</td>\n",
       "      <td>-0.004410</td>\n",
       "    </tr>\n",
       "    <tr>\n",
       "      <th>NETHERLANDS</th>\n",
       "      <td>8084400.0</td>\n",
       "      <td>2970400.0</td>\n",
       "      <td>-0.632576</td>\n",
       "      <td>0.007899</td>\n",
       "      <td>0.003537</td>\n",
       "      <td>-0.004362</td>\n",
       "    </tr>\n",
       "  </tbody>\n",
       "</table>\n",
       "</div>"
      ],
      "text/plain": [
       "period                                2017         2018  pct_change  \\\n",
       "country_name                                                          \n",
       "CHINA (PEOPLE'S REPUBLIC OF)   543917000.0  211809400.0   -0.610585   \n",
       "SWITZERLAND (incl. LI->1994)    24047800.0    3365300.0   -0.860058   \n",
       "MALAYSIA                        13749000.0    5147500.0   -0.625609   \n",
       "VIETNAM (excl. NORTH -> 1976)   60395600.0   45854700.0   -0.240761   \n",
       "NETHERLANDS                      8084400.0    2970400.0   -0.632576   \n",
       "\n",
       "period                         h1_2017_proportion  h1_2018_proportion  \\\n",
       "country_name                                                            \n",
       "CHINA (PEOPLE'S REPUBLIC OF)             0.531472            0.252221   \n",
       "SWITZERLAND (incl. LI->1994)             0.023498            0.004007   \n",
       "MALAYSIA                                 0.013434            0.006130   \n",
       "VIETNAM (excl. NORTH -> 1976)            0.059014            0.054603   \n",
       "NETHERLANDS                              0.007899            0.003537   \n",
       "\n",
       "period                         pct_change_proportional  \n",
       "country_name                                            \n",
       "CHINA (PEOPLE'S REPUBLIC OF)                 -0.279251  \n",
       "SWITZERLAND (incl. LI->1994)                 -0.019490  \n",
       "MALAYSIA                                     -0.007305  \n",
       "VIETNAM (excl. NORTH -> 1976)                -0.004410  \n",
       "NETHERLANDS                                  -0.004362  "
      ]
     },
     "execution_count": 9,
     "metadata": {},
     "output_type": "execute_result"
    }
   ],
   "source": [
    "df_h1 = df.copy() \\\n",
    "    .query(\n",
    "        'iso2 not in @null_countries & \\\n",
    "        period.dt.year in [2017, 2018] & \\\n",
    "        period.dt.month in [1, 2, 3, 4, 5, 6]'\n",
    "    ) \\\n",
    "    .pivot_table(\n",
    "        values='kg',\n",
    "        index='country_name',\n",
    "        columns=df['period'].dt.year,\n",
    "        aggfunc='sum'\n",
    "    ) \\\n",
    "    .assign(pct_change = lambda x: (x[2018] - x[2017]) / x[2017]) \\\n",
    "    .assign(h1_2017_proportion = lambda x: x[2017] / x[2017].sum()) \\\n",
    "    .assign(h1_2018_proportion = lambda x: x[2018] / x[2018].sum()) \\\n",
    "    .assign(pct_change_proportional = lambda x:\n",
    "        x['h1_2018_proportion'] - x['h1_2017_proportion']\n",
    "    ) \\\n",
    "    .sort_values('pct_change_proportional')\n",
    "\n",
    "print(len(df_h1))\n",
    "\n",
    "df_h1.head()"
   ]
  },
  {
   "cell_type": "markdown",
   "metadata": {},
   "source": [
    "## 7. Write H1 comparison data to CSV"
   ]
  },
  {
   "cell_type": "code",
   "execution_count": 10,
   "metadata": {},
   "outputs": [],
   "source": [
    "# df_h1.to_csv(\n",
    "#     f'data/processed/de-fr-gb-it-eurostat/{country}-{material}-exports-h1.csv',\n",
    "#     index=False\n",
    "# )"
   ]
  }
 ],
 "metadata": {
  "kernel_info": {
   "name": "python3"
  },
  "kernelspec": {
   "display_name": "Python 3",
   "language": "python",
   "name": "python3"
  },
  "language_info": {
   "codemirror_mode": {
    "name": "ipython",
    "version": 3
   },
   "file_extension": ".py",
   "mimetype": "text/x-python",
   "name": "python",
   "nbconvert_exporter": "python",
   "pygments_lexer": "ipython3",
   "version": "3.6.3"
  },
  "nteract": {
   "version": "0.11.9"
  }
 },
 "nbformat": 4,
 "nbformat_minor": 2
}
