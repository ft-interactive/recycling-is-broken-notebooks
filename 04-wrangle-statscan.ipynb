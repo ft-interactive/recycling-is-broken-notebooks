{
 "cells": [
  {
   "cell_type": "markdown",
   "metadata": {},
   "source": [
    "# Statistics Canada exports data\n",
    "\n",
    "Source: [Statistics Canada](https://open.canada.ca/data/en/dataset/b1126a07-fd85-4d56-8395-143aba1747a4)\n",
    "\n",
    "## 1. Import, tidy and transform data"
   ]
  },
  {
   "cell_type": "code",
   "execution_count": 1,
   "metadata": {},
   "outputs": [],
   "source": [
    "import pandas as pd\n",
    "\n",
    "material = 'plastics' # 'plastics', 'paper'\n",
    "csv_file = 'Trade-Exports-Chp-39.csv' if material == 'plastics' \\\n",
    "    else 'Trade-Exports-Chp-47.csv'\n",
    "quantity = 'kg' if material == 'plastics' else 'metric_tonnes'\n",
    "codes = [391510, 391520, 391530, 391590] if material == 'plastics' \\\n",
    "    else [470710, 470720, 470730, 470790]"
   ]
  },
  {
   "cell_type": "code",
   "execution_count": 2,
   "metadata": {},
   "outputs": [
    {
     "name": "stdout",
     "output_type": "stream",
     "text": [
      "340\n"
     ]
    },
    {
     "data": {
      "text/html": [
       "<div>\n",
       "<style scoped>\n",
       "    .dataframe tbody tr th:only-of-type {\n",
       "        vertical-align: middle;\n",
       "    }\n",
       "\n",
       "    .dataframe tbody tr th {\n",
       "        vertical-align: top;\n",
       "    }\n",
       "\n",
       "    .dataframe thead th {\n",
       "        text-align: right;\n",
       "    }\n",
       "</style>\n",
       "<table border=\"1\" class=\"dataframe\">\n",
       "  <thead>\n",
       "    <tr style=\"text-align: right;\">\n",
       "      <th></th>\n",
       "      <th>country_code</th>\n",
       "      <th>period</th>\n",
       "      <th>kg</th>\n",
       "    </tr>\n",
       "  </thead>\n",
       "  <tbody>\n",
       "    <tr>\n",
       "      <th>0</th>\n",
       "      <td>9</td>\n",
       "      <td>2017-01-01</td>\n",
       "      <td>8511164</td>\n",
       "    </tr>\n",
       "    <tr>\n",
       "      <th>1</th>\n",
       "      <td>9</td>\n",
       "      <td>2017-02-01</td>\n",
       "      <td>8029145</td>\n",
       "    </tr>\n",
       "    <tr>\n",
       "      <th>2</th>\n",
       "      <td>9</td>\n",
       "      <td>2017-03-01</td>\n",
       "      <td>10681859</td>\n",
       "    </tr>\n",
       "    <tr>\n",
       "      <th>3</th>\n",
       "      <td>9</td>\n",
       "      <td>2017-04-01</td>\n",
       "      <td>9727159</td>\n",
       "    </tr>\n",
       "    <tr>\n",
       "      <th>4</th>\n",
       "      <td>9</td>\n",
       "      <td>2017-05-01</td>\n",
       "      <td>10250167</td>\n",
       "    </tr>\n",
       "  </tbody>\n",
       "</table>\n",
       "</div>"
      ],
      "text/plain": [
       "   country_code     period        kg\n",
       "0             9 2017-01-01   8511164\n",
       "1             9 2017-02-01   8029145\n",
       "2             9 2017-03-01  10681859\n",
       "3             9 2017-04-01   9727159\n",
       "4             9 2017-05-01  10250167"
      ]
     },
     "execution_count": 2,
     "metadata": {},
     "output_type": "execute_result"
    }
   ],
   "source": [
    "df = pd.read_csv(\n",
    "        f'data/raw/canada-statistics-canada/Trade-Exports-Yr2017-2018/{csv_file}',\n",
    "        encoding='latin-1',\n",
    "        usecols=[0, 2, 3, 4, 6, 7, 8]\n",
    "    ) \\\n",
    "    .rename({\n",
    "        'HS_CODE/CODE_SH': 'hs_code',\n",
    "        'COUNTRY/PAYS': 'country_code',\n",
    "        'STATE/ÉTAT': 'state_code',\n",
    "        'GEO/GEO': 'geo',\n",
    "        'QUANTITY/QUANTITÉ': 'quantity',\n",
    "        'YEAR/ANNÉE': 'year',\n",
    "        'MONTH/MOIS': 'month'\n",
    "    }, axis=1) \\\n",
    "    .pipe(lambda df: df.query(\n",
    "        'hs_code in @codes & \\\n",
    "        country_code != 999 & \\\n",
    "        state_code == 1000 & \\\n",
    "        geo == 1'\n",
    "    )) \\\n",
    "    .assign(period = lambda x:\n",
    "        pd.to_datetime(x['year'].map(str) + '-' + x['month'].map(str) + '-01'),\n",
    "        kg = lambda x: x['quantity'] * 1000 if material == 'paper' else x['quantity']\n",
    "    ) \\\n",
    "    .groupby(['country_code', 'period'], as_index=False)['kg'].sum() \\\n",
    "    .sort_values(['country_code', 'period']) \\\n",
    "    .reset_index(drop=True)\n",
    "\n",
    "print(len(df))\n",
    "\n",
    "df.head()"
   ]
  },
  {
   "cell_type": "markdown",
   "metadata": {},
   "source": [
    "## 2. Join to country names and ISO codes\n",
    "\n",
    "Country/area codes source: Statistics Canada"
   ]
  },
  {
   "cell_type": "code",
   "execution_count": 3,
   "metadata": {},
   "outputs": [
    {
     "name": "stdout",
     "output_type": "stream",
     "text": [
      "261\n"
     ]
    },
    {
     "data": {
      "text/html": [
       "<div>\n",
       "<style scoped>\n",
       "    .dataframe tbody tr th:only-of-type {\n",
       "        vertical-align: middle;\n",
       "    }\n",
       "\n",
       "    .dataframe tbody tr th {\n",
       "        vertical-align: top;\n",
       "    }\n",
       "\n",
       "    .dataframe thead th {\n",
       "        text-align: right;\n",
       "    }\n",
       "</style>\n",
       "<table border=\"1\" class=\"dataframe\">\n",
       "  <thead>\n",
       "    <tr style=\"text-align: right;\">\n",
       "      <th></th>\n",
       "      <th>iso2</th>\n",
       "      <th>country_code</th>\n",
       "      <th>Country English Description</th>\n",
       "    </tr>\n",
       "  </thead>\n",
       "  <tbody>\n",
       "    <tr>\n",
       "      <th>0</th>\n",
       "      <td>AD</td>\n",
       "      <td>156</td>\n",
       "      <td>Andorra</td>\n",
       "    </tr>\n",
       "    <tr>\n",
       "      <th>1</th>\n",
       "      <td>AE</td>\n",
       "      <td>328</td>\n",
       "      <td>United Arab Emirates</td>\n",
       "    </tr>\n",
       "    <tr>\n",
       "      <th>2</th>\n",
       "      <td>AF</td>\n",
       "      <td>542</td>\n",
       "      <td>Afghanistan</td>\n",
       "    </tr>\n",
       "    <tr>\n",
       "      <th>3</th>\n",
       "      <td>AG</td>\n",
       "      <td>832</td>\n",
       "      <td>Antigua and Barbuda</td>\n",
       "    </tr>\n",
       "    <tr>\n",
       "      <th>4</th>\n",
       "      <td>AI</td>\n",
       "      <td>830</td>\n",
       "      <td>Anguilla</td>\n",
       "    </tr>\n",
       "  </tbody>\n",
       "</table>\n",
       "</div>"
      ],
      "text/plain": [
       "  iso2  country_code Country English Description\n",
       "0   AD           156                     Andorra\n",
       "1   AE           328        United Arab Emirates\n",
       "2   AF           542                 Afghanistan\n",
       "3   AG           832         Antigua and Barbuda\n",
       "4   AI           830                    Anguilla"
      ]
     },
     "execution_count": 3,
     "metadata": {},
     "output_type": "execute_result"
    }
   ],
   "source": [
    "df_countries = pd.read_excel(\n",
    "        'data/raw/canada-statistics-canada/C616N006_CtryDesc_201807.xlsx',\n",
    "        header=5,\n",
    "        usecols=[0, 2, 5],\n",
    "        keep_default_na=False # Necessary because the ISO 2 code for Namibia is ‘NA’\n",
    "    ) \\\n",
    "    .rename({\n",
    "        'ISO Country Code': 'iso2',\n",
    "        'ITD Country Code': 'country_code'\n",
    "    }, axis=1) \\\n",
    "    .drop_duplicates(['iso2', 'country_code']) \\\n",
    "    .reset_index(drop=True)\n",
    "\n",
    "print(len(df_countries))\n",
    "\n",
    "df_countries.head()"
   ]
  },
  {
   "cell_type": "code",
   "execution_count": 4,
   "metadata": {},
   "outputs": [
    {
     "name": "stdout",
     "output_type": "stream",
     "text": [
      "340\n"
     ]
    },
    {
     "data": {
      "text/html": [
       "<div>\n",
       "<style scoped>\n",
       "    .dataframe tbody tr th:only-of-type {\n",
       "        vertical-align: middle;\n",
       "    }\n",
       "\n",
       "    .dataframe tbody tr th {\n",
       "        vertical-align: top;\n",
       "    }\n",
       "\n",
       "    .dataframe thead th {\n",
       "        text-align: right;\n",
       "    }\n",
       "</style>\n",
       "<table border=\"1\" class=\"dataframe\">\n",
       "  <thead>\n",
       "    <tr style=\"text-align: right;\">\n",
       "      <th></th>\n",
       "      <th>period</th>\n",
       "      <th>kg</th>\n",
       "      <th>iso2</th>\n",
       "      <th>country_name</th>\n",
       "    </tr>\n",
       "  </thead>\n",
       "  <tbody>\n",
       "    <tr>\n",
       "      <th>0</th>\n",
       "      <td>2017-01-01</td>\n",
       "      <td>8511164</td>\n",
       "      <td>US</td>\n",
       "      <td>United States</td>\n",
       "    </tr>\n",
       "    <tr>\n",
       "      <th>1</th>\n",
       "      <td>2017-02-01</td>\n",
       "      <td>8029145</td>\n",
       "      <td>US</td>\n",
       "      <td>United States</td>\n",
       "    </tr>\n",
       "    <tr>\n",
       "      <th>2</th>\n",
       "      <td>2017-03-01</td>\n",
       "      <td>10681859</td>\n",
       "      <td>US</td>\n",
       "      <td>United States</td>\n",
       "    </tr>\n",
       "    <tr>\n",
       "      <th>3</th>\n",
       "      <td>2017-04-01</td>\n",
       "      <td>9727159</td>\n",
       "      <td>US</td>\n",
       "      <td>United States</td>\n",
       "    </tr>\n",
       "    <tr>\n",
       "      <th>4</th>\n",
       "      <td>2017-05-01</td>\n",
       "      <td>10250167</td>\n",
       "      <td>US</td>\n",
       "      <td>United States</td>\n",
       "    </tr>\n",
       "  </tbody>\n",
       "</table>\n",
       "</div>"
      ],
      "text/plain": [
       "      period        kg iso2   country_name\n",
       "0 2017-01-01   8511164   US  United States\n",
       "1 2017-02-01   8029145   US  United States\n",
       "2 2017-03-01  10681859   US  United States\n",
       "3 2017-04-01   9727159   US  United States\n",
       "4 2017-05-01  10250167   US  United States"
      ]
     },
     "execution_count": 4,
     "metadata": {},
     "output_type": "execute_result"
    }
   ],
   "source": [
    "df_joined = df.copy() \\\n",
    "    .merge(\n",
    "        df_countries,\n",
    "        'left',\n",
    "        'country_code'\n",
    "    ) \\\n",
    "    .drop('country_code', axis=1) \\\n",
    "    .rename({'Country English Description': 'country_name'}, axis=1) \\\n",
    "    .reset_index(drop=True)\n",
    "\n",
    "print(len(df_joined))\n",
    "\n",
    "df_joined.head()"
   ]
  },
  {
   "cell_type": "markdown",
   "metadata": {},
   "source": [
    "## 3. Check data types and nulls"
   ]
  },
  {
   "cell_type": "code",
   "execution_count": 5,
   "metadata": {},
   "outputs": [
    {
     "data": {
      "text/plain": [
       "period          datetime64[ns]\n",
       "kg                       int64\n",
       "iso2                    object\n",
       "country_name            object\n",
       "dtype: object"
      ]
     },
     "execution_count": 5,
     "metadata": {},
     "output_type": "execute_result"
    }
   ],
   "source": [
    "df_joined.dtypes"
   ]
  },
  {
   "cell_type": "code",
   "execution_count": 6,
   "metadata": {},
   "outputs": [
    {
     "data": {
      "text/plain": [
       "period          False\n",
       "kg              False\n",
       "iso2            False\n",
       "country_name    False\n",
       "dtype: bool"
      ]
     },
     "execution_count": 6,
     "metadata": {},
     "output_type": "execute_result"
    }
   ],
   "source": [
    "df_joined.isnull().any()"
   ]
  },
  {
   "cell_type": "markdown",
   "metadata": {},
   "source": [
    "## 4. Spot check, e.g. December 2017 exports to US"
   ]
  },
  {
   "cell_type": "code",
   "execution_count": 7,
   "metadata": {},
   "outputs": [
    {
     "data": {
      "text/plain": [
       "8067622"
      ]
     },
     "execution_count": 7,
     "metadata": {},
     "output_type": "execute_result"
    }
   ],
   "source": [
    "test = df_joined.query(\n",
    "    'period.dt.year == 2017 & \\\n",
    "    period.dt.month == 12 & \\\n",
    "    country_name == \"United States\"'\n",
    ")\n",
    "\n",
    "test['kg'].sum()"
   ]
  },
  {
   "cell_type": "markdown",
   "metadata": {},
   "source": [
    "## 5. Identify countries importing zero waste"
   ]
  },
  {
   "cell_type": "code",
   "execution_count": 8,
   "metadata": {},
   "outputs": [
    {
     "name": "stdout",
     "output_type": "stream",
     "text": [
      "0\n"
     ]
    },
    {
     "data": {
      "text/plain": [
       "[]"
      ]
     },
     "execution_count": 8,
     "metadata": {},
     "output_type": "execute_result"
    }
   ],
   "source": [
    "null_countries = df_joined.copy() \\\n",
    "    .groupby('iso2', as_index=False).sum() \\\n",
    "    .query('kg == 0') \\\n",
    "    ['iso2'].tolist()\n",
    "\n",
    "print(len(null_countries))\n",
    "\n",
    "null_countries[0:10]"
   ]
  },
  {
   "cell_type": "markdown",
   "metadata": {},
   "source": [
    "## 6. Write monthly data to CSV"
   ]
  },
  {
   "cell_type": "code",
   "execution_count": 9,
   "metadata": {},
   "outputs": [
    {
     "data": {
      "text/html": [
       "<div>\n",
       "<style scoped>\n",
       "    .dataframe tbody tr th:only-of-type {\n",
       "        vertical-align: middle;\n",
       "    }\n",
       "\n",
       "    .dataframe tbody tr th {\n",
       "        vertical-align: top;\n",
       "    }\n",
       "\n",
       "    .dataframe thead th {\n",
       "        text-align: right;\n",
       "    }\n",
       "</style>\n",
       "<table border=\"1\" class=\"dataframe\">\n",
       "  <thead>\n",
       "    <tr style=\"text-align: right;\">\n",
       "      <th></th>\n",
       "      <th>period</th>\n",
       "      <th>kg</th>\n",
       "      <th>iso2</th>\n",
       "      <th>country_name</th>\n",
       "      <th>exporter</th>\n",
       "    </tr>\n",
       "  </thead>\n",
       "  <tbody>\n",
       "    <tr>\n",
       "      <th>0</th>\n",
       "      <td>2017-01-01</td>\n",
       "      <td>8511164</td>\n",
       "      <td>US</td>\n",
       "      <td>United States</td>\n",
       "      <td>CA</td>\n",
       "    </tr>\n",
       "    <tr>\n",
       "      <th>1</th>\n",
       "      <td>2017-02-01</td>\n",
       "      <td>8029145</td>\n",
       "      <td>US</td>\n",
       "      <td>United States</td>\n",
       "      <td>CA</td>\n",
       "    </tr>\n",
       "    <tr>\n",
       "      <th>2</th>\n",
       "      <td>2017-03-01</td>\n",
       "      <td>10681859</td>\n",
       "      <td>US</td>\n",
       "      <td>United States</td>\n",
       "      <td>CA</td>\n",
       "    </tr>\n",
       "    <tr>\n",
       "      <th>3</th>\n",
       "      <td>2017-04-01</td>\n",
       "      <td>9727159</td>\n",
       "      <td>US</td>\n",
       "      <td>United States</td>\n",
       "      <td>CA</td>\n",
       "    </tr>\n",
       "    <tr>\n",
       "      <th>4</th>\n",
       "      <td>2017-05-01</td>\n",
       "      <td>10250167</td>\n",
       "      <td>US</td>\n",
       "      <td>United States</td>\n",
       "      <td>CA</td>\n",
       "    </tr>\n",
       "  </tbody>\n",
       "</table>\n",
       "</div>"
      ],
      "text/plain": [
       "      period        kg iso2   country_name exporter\n",
       "0 2017-01-01   8511164   US  United States       CA\n",
       "1 2017-02-01   8029145   US  United States       CA\n",
       "2 2017-03-01  10681859   US  United States       CA\n",
       "3 2017-04-01   9727159   US  United States       CA\n",
       "4 2017-05-01  10250167   US  United States       CA"
      ]
     },
     "execution_count": 9,
     "metadata": {},
     "output_type": "execute_result"
    }
   ],
   "source": [
    "df_monthly = df_joined.copy() \\\n",
    "    .query('iso2 not in @null_countries') \\\n",
    "    .assign(exporter = 'CA')\n",
    "    \n",
    "df_monthly.head()"
   ]
  },
  {
   "cell_type": "code",
   "execution_count": 10,
   "metadata": {},
   "outputs": [],
   "source": [
    "df_monthly[['period', 'iso2', 'country_name', 'exporter', 'kg']].to_csv(\n",
    "    f'data/processed/canada-statistics-canada/ca-{material}-exports-monthly.csv',\n",
    "    index=False\n",
    ")"
   ]
  },
  {
   "cell_type": "markdown",
   "metadata": {},
   "source": [
    "## 7. Compare H1 2017 to H1 2018"
   ]
  },
  {
   "cell_type": "code",
   "execution_count": 11,
   "metadata": {},
   "outputs": [
    {
     "data": {
      "text/html": [
       "<div>\n",
       "<style scoped>\n",
       "    .dataframe tbody tr th:only-of-type {\n",
       "        vertical-align: middle;\n",
       "    }\n",
       "\n",
       "    .dataframe tbody tr th {\n",
       "        vertical-align: top;\n",
       "    }\n",
       "\n",
       "    .dataframe thead th {\n",
       "        text-align: right;\n",
       "    }\n",
       "</style>\n",
       "<table border=\"1\" class=\"dataframe\">\n",
       "  <thead>\n",
       "    <tr style=\"text-align: right;\">\n",
       "      <th>period</th>\n",
       "      <th>2017</th>\n",
       "      <th>2018</th>\n",
       "      <th>pct_change</th>\n",
       "      <th>h1_2017_proportion</th>\n",
       "      <th>h1_2018_proportion</th>\n",
       "      <th>pct_change_proportional</th>\n",
       "    </tr>\n",
       "    <tr>\n",
       "      <th>country_name</th>\n",
       "      <th></th>\n",
       "      <th></th>\n",
       "      <th></th>\n",
       "      <th></th>\n",
       "      <th></th>\n",
       "      <th></th>\n",
       "    </tr>\n",
       "  </thead>\n",
       "  <tbody>\n",
       "    <tr>\n",
       "      <th>China</th>\n",
       "      <td>20398059.0</td>\n",
       "      <td>874396.0</td>\n",
       "      <td>-0.957133</td>\n",
       "      <td>0.196520</td>\n",
       "      <td>0.010279</td>\n",
       "      <td>-0.186241</td>\n",
       "    </tr>\n",
       "    <tr>\n",
       "      <th>Hong Kong</th>\n",
       "      <td>17859425.0</td>\n",
       "      <td>2566798.0</td>\n",
       "      <td>-0.856278</td>\n",
       "      <td>0.172062</td>\n",
       "      <td>0.030175</td>\n",
       "      <td>-0.141888</td>\n",
       "    </tr>\n",
       "    <tr>\n",
       "      <th>Spain</th>\n",
       "      <td>327317.0</td>\n",
       "      <td>158692.0</td>\n",
       "      <td>-0.515173</td>\n",
       "      <td>0.003153</td>\n",
       "      <td>0.001866</td>\n",
       "      <td>-0.001288</td>\n",
       "    </tr>\n",
       "    <tr>\n",
       "      <th>Japan</th>\n",
       "      <td>65044.0</td>\n",
       "      <td>18176.0</td>\n",
       "      <td>-0.720558</td>\n",
       "      <td>0.000627</td>\n",
       "      <td>0.000214</td>\n",
       "      <td>-0.000413</td>\n",
       "    </tr>\n",
       "    <tr>\n",
       "      <th>Singapore</th>\n",
       "      <td>41774.0</td>\n",
       "      <td>2070.0</td>\n",
       "      <td>-0.950448</td>\n",
       "      <td>0.000402</td>\n",
       "      <td>0.000024</td>\n",
       "      <td>-0.000378</td>\n",
       "    </tr>\n",
       "  </tbody>\n",
       "</table>\n",
       "</div>"
      ],
      "text/plain": [
       "period              2017       2018  pct_change  h1_2017_proportion  \\\n",
       "country_name                                                          \n",
       "China         20398059.0   874396.0   -0.957133            0.196520   \n",
       "Hong Kong     17859425.0  2566798.0   -0.856278            0.172062   \n",
       "Spain           327317.0   158692.0   -0.515173            0.003153   \n",
       "Japan            65044.0    18176.0   -0.720558            0.000627   \n",
       "Singapore        41774.0     2070.0   -0.950448            0.000402   \n",
       "\n",
       "period        h1_2018_proportion  pct_change_proportional  \n",
       "country_name                                               \n",
       "China                   0.010279                -0.186241  \n",
       "Hong Kong               0.030175                -0.141888  \n",
       "Spain                   0.001866                -0.001288  \n",
       "Japan                   0.000214                -0.000413  \n",
       "Singapore               0.000024                -0.000378  "
      ]
     },
     "execution_count": 11,
     "metadata": {},
     "output_type": "execute_result"
    }
   ],
   "source": [
    "df_h1 = df_joined.copy() \\\n",
    "    .query(\n",
    "        'iso2 not in @null_countries & \\\n",
    "        period.dt.year in [2017, 2018] & \\\n",
    "        period.dt.month in [1, 2, 3, 4, 5, 6]'\n",
    "    ) \\\n",
    "    .pivot_table(\n",
    "        values='kg',\n",
    "        index='country_name',\n",
    "        columns=df_joined['period'].dt.year,\n",
    "        aggfunc='sum'\n",
    "    ) \\\n",
    "    .assign(pct_change = lambda x: (x[2018] - x[2017]) / x[2017]) \\\n",
    "    .assign(h1_2017_proportion = lambda x: x[2017] / x[2017].sum()) \\\n",
    "    .assign(h1_2018_proportion = lambda x: x[2018] / x[2018].sum()) \\\n",
    "    .assign(pct_change_proportional = lambda x:\n",
    "        x['h1_2018_proportion'] - x['h1_2017_proportion']) \\\n",
    "    .sort_values('pct_change_proportional')\n",
    "\n",
    "df_h1.head()"
   ]
  },
  {
   "cell_type": "markdown",
   "metadata": {},
   "source": [
    "## 8. Write H1 comparison data to CSV"
   ]
  },
  {
   "cell_type": "code",
   "execution_count": 12,
   "metadata": {},
   "outputs": [],
   "source": [
    "# df_h1.to_csv(\n",
    "#     f'data/processed/canada-statistics-canada/ca-{material}-exports-h1.csv',\n",
    "#     index=False\n",
    "# )"
   ]
  }
 ],
 "metadata": {
  "kernelspec": {
   "display_name": "Python 3",
   "language": "python",
   "name": "python3"
  },
  "language_info": {
   "codemirror_mode": {
    "name": "ipython",
    "version": 3
   },
   "file_extension": ".py",
   "mimetype": "text/x-python",
   "name": "python",
   "nbconvert_exporter": "python",
   "pygments_lexer": "ipython3",
   "version": "3.6.3"
  }
 },
 "nbformat": 4,
 "nbformat_minor": 2
}
