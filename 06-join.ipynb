{
 "cells": [
  {
   "cell_type": "markdown",
   "metadata": {},
   "source": [
    "# Join data"
   ]
  },
  {
   "cell_type": "code",
   "execution_count": 1,
   "metadata": {},
   "outputs": [],
   "source": [
    "import pandas as pd"
   ]
  },
  {
   "cell_type": "code",
   "execution_count": 2,
   "metadata": {},
   "outputs": [
    {
     "data": {
      "text/plain": [
       "['data/processed/de-fr-gb-it-eurostat/de-plastics-exports-monthly.csv',\n",
       " 'data/processed/de-fr-gb-it-eurostat/fr-plastics-exports-monthly.csv',\n",
       " 'data/processed/de-fr-gb-it-eurostat/it-plastics-exports-monthly.csv',\n",
       " 'data/processed/de-fr-gb-it-eurostat/gb-plastics-exports-monthly.csv',\n",
       " 'data/processed/us-uscb/us-plastics-exports-monthly.csv',\n",
       " 'data/processed/canada-statistics-canada/ca-plastics-exports-monthly.csv',\n",
       " 'data/processed/jp-estat/jp-plastics-exports-monthly.csv']"
      ]
     },
     "execution_count": 2,
     "metadata": {},
     "output_type": "execute_result"
    }
   ],
   "source": [
    "material = 'plastics' # 'plastics', 'paper'\n",
    "paths = [\n",
    "    f'data/processed/de-fr-gb-it-eurostat/de-{material}-exports-monthly.csv',\n",
    "    f'data/processed/de-fr-gb-it-eurostat/fr-{material}-exports-monthly.csv',\n",
    "    f'data/processed/de-fr-gb-it-eurostat/it-{material}-exports-monthly.csv',\n",
    "    f'data/processed/de-fr-gb-it-eurostat/gb-{material}-exports-monthly.csv',\n",
    "    f'data/processed/us-uscb/us-{material}-exports-monthly.csv',\n",
    "    f'data/processed/canada-statistics-canada/ca-{material}-exports-monthly.csv',\n",
    "    f'data/processed/jp-estat/jp-{material}-exports-monthly.csv',\n",
    "]\n",
    "\n",
    "paths"
   ]
  },
  {
   "cell_type": "code",
   "execution_count": 3,
   "metadata": {},
   "outputs": [
    {
     "data": {
      "text/plain": [
       "28927"
      ]
     },
     "execution_count": 3,
     "metadata": {},
     "output_type": "execute_result"
    }
   ],
   "source": [
    "dfs = [\n",
    "    pd.read_csv(\n",
    "        path,\n",
    "        parse_dates=['period'],\n",
    "        keep_default_na=False # Necessary because the ISO 2 code for Namibia is ‘NA’\n",
    "    ) for path in paths\n",
    "]\n",
    "\n",
    "row_count = 0\n",
    "\n",
    "for df in dfs:\n",
    "    row_count += len(df)\n",
    "    \n",
    "row_count"
   ]
  },
  {
   "cell_type": "code",
   "execution_count": 4,
   "metadata": {},
   "outputs": [
    {
     "name": "stdout",
     "output_type": "stream",
     "text": [
      "6204\n",
      "period          False\n",
      "iso2            False\n",
      "country_name    False\n",
      "exporter        False\n",
      "kg              False\n",
      "dtype: bool\n",
      "4818\n",
      "period          False\n",
      "iso2            False\n",
      "country_name    False\n",
      "exporter        False\n",
      "kg              False\n",
      "dtype: bool\n",
      "6138\n",
      "period          False\n",
      "iso2            False\n",
      "country_name    False\n",
      "exporter        False\n",
      "kg              False\n",
      "dtype: bool\n",
      "7194\n",
      "period          False\n",
      "iso2            False\n",
      "country_name    False\n",
      "exporter        False\n",
      "kg              False\n",
      "dtype: bool\n",
      "3345\n",
      "period          False\n",
      "iso2            False\n",
      "country_name    False\n",
      "exporter        False\n",
      "kg              False\n",
      "dtype: bool\n",
      "340\n",
      "period          False\n",
      "iso2            False\n",
      "country_name    False\n",
      "exporter        False\n",
      "kg              False\n",
      "dtype: bool\n",
      "888\n",
      "period          False\n",
      "iso2            False\n",
      "country_name    False\n",
      "exporter        False\n",
      "kg              False\n",
      "dtype: bool\n"
     ]
    }
   ],
   "source": [
    "for df in dfs:\n",
    "    print(len(df))\n",
    "    print(df.isnull().any())"
   ]
  },
  {
   "cell_type": "code",
   "execution_count": 5,
   "metadata": {},
   "outputs": [
    {
     "name": "stdout",
     "output_type": "stream",
     "text": [
      "28927\n"
     ]
    },
    {
     "data": {
      "text/html": [
       "<div>\n",
       "<style scoped>\n",
       "    .dataframe tbody tr th:only-of-type {\n",
       "        vertical-align: middle;\n",
       "    }\n",
       "\n",
       "    .dataframe tbody tr th {\n",
       "        vertical-align: top;\n",
       "    }\n",
       "\n",
       "    .dataframe thead th {\n",
       "        text-align: right;\n",
       "    }\n",
       "</style>\n",
       "<table border=\"1\" class=\"dataframe\">\n",
       "  <thead>\n",
       "    <tr style=\"text-align: right;\">\n",
       "      <th></th>\n",
       "      <th>period</th>\n",
       "      <th>iso2</th>\n",
       "      <th>country_name</th>\n",
       "      <th>exporter</th>\n",
       "      <th>kg</th>\n",
       "    </tr>\n",
       "  </thead>\n",
       "  <tbody>\n",
       "    <tr>\n",
       "      <th>0</th>\n",
       "      <td>2013-01-01</td>\n",
       "      <td>AF</td>\n",
       "      <td>AFGHANISTAN</td>\n",
       "      <td>DE</td>\n",
       "      <td>NaN</td>\n",
       "    </tr>\n",
       "    <tr>\n",
       "      <th>1</th>\n",
       "      <td>2013-02-01</td>\n",
       "      <td>AF</td>\n",
       "      <td>AFGHANISTAN</td>\n",
       "      <td>DE</td>\n",
       "      <td>NaN</td>\n",
       "    </tr>\n",
       "    <tr>\n",
       "      <th>2</th>\n",
       "      <td>2013-03-01</td>\n",
       "      <td>AF</td>\n",
       "      <td>AFGHANISTAN</td>\n",
       "      <td>DE</td>\n",
       "      <td>NaN</td>\n",
       "    </tr>\n",
       "    <tr>\n",
       "      <th>3</th>\n",
       "      <td>2013-04-01</td>\n",
       "      <td>AF</td>\n",
       "      <td>AFGHANISTAN</td>\n",
       "      <td>DE</td>\n",
       "      <td>NaN</td>\n",
       "    </tr>\n",
       "    <tr>\n",
       "      <th>4</th>\n",
       "      <td>2013-05-01</td>\n",
       "      <td>AF</td>\n",
       "      <td>AFGHANISTAN</td>\n",
       "      <td>DE</td>\n",
       "      <td>NaN</td>\n",
       "    </tr>\n",
       "  </tbody>\n",
       "</table>\n",
       "</div>"
      ],
      "text/plain": [
       "      period iso2 country_name exporter  kg\n",
       "0 2013-01-01   AF  AFGHANISTAN       DE NaN\n",
       "1 2013-02-01   AF  AFGHANISTAN       DE NaN\n",
       "2 2013-03-01   AF  AFGHANISTAN       DE NaN\n",
       "3 2013-04-01   AF  AFGHANISTAN       DE NaN\n",
       "4 2013-05-01   AF  AFGHANISTAN       DE NaN"
      ]
     },
     "execution_count": 5,
     "metadata": {},
     "output_type": "execute_result"
    }
   ],
   "source": [
    "df = pd.concat(dfs) \\\n",
    "    .assign(kg = lambda x: pd.to_numeric(x['kg'])) \\\n",
    "    .reset_index(drop=True)\n",
    "\n",
    "print(len(df))\n",
    "\n",
    "df.head()"
   ]
  },
  {
   "cell_type": "code",
   "execution_count": 6,
   "metadata": {},
   "outputs": [
    {
     "data": {
      "text/plain": [
       "period          datetime64[ns]\n",
       "iso2                    object\n",
       "country_name            object\n",
       "exporter                object\n",
       "kg                     float64\n",
       "dtype: object"
      ]
     },
     "execution_count": 6,
     "metadata": {},
     "output_type": "execute_result"
    }
   ],
   "source": [
    "df.dtypes"
   ]
  },
  {
   "cell_type": "code",
   "execution_count": 7,
   "metadata": {},
   "outputs": [
    {
     "data": {
      "text/plain": [
       "period          False\n",
       "iso2            False\n",
       "country_name    False\n",
       "exporter        False\n",
       "kg               True\n",
       "dtype: bool"
      ]
     },
     "execution_count": 7,
     "metadata": {},
     "output_type": "execute_result"
    }
   ],
   "source": [
    "df.isnull().any()"
   ]
  },
  {
   "cell_type": "code",
   "execution_count": 8,
   "metadata": {},
   "outputs": [],
   "source": [
    "# df.to_csv(f'data/processed/g7-{material}-exports.csv', index=False)"
   ]
  }
 ],
 "metadata": {
  "kernelspec": {
   "display_name": "Python 3",
   "language": "python",
   "name": "python3"
  },
  "language_info": {
   "codemirror_mode": {
    "name": "ipython",
    "version": 3
   },
   "file_extension": ".py",
   "mimetype": "text/x-python",
   "name": "python",
   "nbconvert_exporter": "python",
   "pygments_lexer": "ipython3",
   "version": "3.6.3"
  }
 },
 "nbformat": 4,
 "nbformat_minor": 2
}
